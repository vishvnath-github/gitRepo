{
 "cells": [
  {
   "cell_type": "markdown",
   "metadata": {},
   "source": [
    "### Solution for Required code mod4"
   ]
  },
  {
   "cell_type": "code",
   "execution_count": 24,
   "metadata": {},
   "outputs": [
    {
     "data": {
      "text/plain": [
       "'cython'"
      ]
     },
     "execution_count": 24,
     "metadata": {},
     "output_type": "execute_result"
    }
   ],
   "source": [
    "x = \"python\"\n",
    "\n",
    "x = x.replace(\"p\",\"c\")\n",
    "x"
   ]
  },
  {
   "cell_type": "code",
   "execution_count": 30,
   "metadata": {},
   "outputs": [
    {
     "ename": "SyntaxError",
     "evalue": "invalid syntax (<ipython-input-30-e67650e157cb>, line 2)",
     "output_type": "error",
     "traceback": [
      "\u001b[1;36m  File \u001b[1;32m\"<ipython-input-30-e67650e157cb>\"\u001b[1;36m, line \u001b[1;32m2\u001b[0m\n\u001b[1;33m    sk.tree()?\u001b[0m\n\u001b[1;37m             ^\u001b[0m\n\u001b[1;31mSyntaxError\u001b[0m\u001b[1;31m:\u001b[0m invalid syntax\n"
     ]
    }
   ],
   "source": [
    "import sklearn as sk\n"
   ]
  },
  {
   "cell_type": "code",
   "execution_count": 8,
   "metadata": {},
   "outputs": [
    {
     "name": "stdout",
     "output_type": "stream",
     "text": [
      "Enter either a string or an integer: 99\n",
      "99 is a small number\n"
     ]
    }
   ],
   "source": [
    "def str_analysis(Str_Int):\n",
    "    if Str_Int.isdigit():\n",
    "        Str_Int = int(Str_Int)\n",
    "        if Str_Int > 99:\n",
    "            print(Str_Int,\"is a big number \")\n",
    "        else:\n",
    "            print(Str_Int, \"is a small number\")\n",
    "    elif Str_Int.isalpha():\n",
    "        print(Str_Int, \"is an alphabatical \")\n",
    "    else:\n",
    "        print(Str_Int,\"is Neither alphabatical nor a digit\")\n",
    "input1 = input(\"Enter either a string or an integer: \")\n",
    "str_analysis(input1)"
   ]
  },
  {
   "cell_type": "code",
   "execution_count": null,
   "metadata": {},
   "outputs": [],
   "source": [
    "def adding_report(report = \"T\"):\n",
    "    total = 0\n",
    "    items = \"\"\n",
    "    while True:\n",
    "        var1 = input(\"Enter an integer or Q to quit: \")\n",
    "        if var1.isdigit():\n",
    "            total = total + int(var1)\n",
    "            if report.upper() == \"A\":\n",
    "                items = items + \"\\n\"+ var1\n",
    "        elif var1.upper() == \"Q\":\n",
    "            if report.upper() == \"A\":\n",
    "                print(\"items\",\"\\n\",items,\"\\n\",\"\\n\",\"Total\",\"\\n\",total)\n",
    "                break\n",
    "            elif report.upper == \"T\":\n",
    "                print(\"Total\",\"\\n\",total)\n",
    "                break\n",
    "            else:\n",
    "                print(\"Enter a valid report type\")\n",
    "                break\n",
    "        else:\n",
    "            Print(\"Input is invalid\")\n",
    "            break\n",
    "                \n",
    "            \n",
    "adding_report(\"A\")               \n",
    "            \n",
    "    \n",
    "    "
   ]
  },
  {
   "cell_type": "code",
   "execution_count": 28,
   "metadata": {},
   "outputs": [
    {
     "data": {
      "text/plain": [
       "10"
      ]
     },
     "execution_count": 28,
     "metadata": {},
     "output_type": "execute_result"
    }
   ],
   "source": [
    "\n",
    "def var1(x):\n",
    "    total = 0\n",
    "    total = total +int(x)\n",
    "    return total\n",
    "\n",
    "var1(10)"
   ]
  },
  {
   "cell_type": "code",
   "execution_count": 2,
   "metadata": {},
   "outputs": [
    {
     "name": "stdout",
     "output_type": "stream",
     "text": [
      "['False', 'None', 'True', 'and', 'as', 'assert', 'async', 'await', 'break', 'class', 'continue', 'def', 'del', 'elif', 'else', 'except', 'finally', 'for', 'from', 'global', 'if', 'import', 'in', 'is', 'lambda', 'nonlocal', 'not', 'or', 'pass', 'raise', 'return', 'try', 'while', 'with', 'yield']\n"
     ]
    }
   ],
   "source": [
    "import keyword\n",
    "print(keyword.kwlist)"
   ]
  },
  {
   "cell_type": "markdown",
   "metadata": {},
   "source": [
    "# Assignments"
   ]
  },
  {
   "cell_type": "code",
   "execution_count": 92,
   "metadata": {},
   "outputs": [
    {
     "name": "stdout",
     "output_type": "stream",
     "text": [
      "1 2\n",
      "1 2 3\n"
     ]
    }
   ],
   "source": [
    "a ,b, _ = 1,2,3\n",
    "print(a,b)\n",
    "print(a,b,_)"
   ]
  },
  {
   "cell_type": "markdown",
   "metadata": {},
   "source": [
    "# Tuples"
   ]
  },
  {
   "cell_type": "code",
   "execution_count": 3,
   "metadata": {},
   "outputs": [
    {
     "name": "stdout",
     "output_type": "stream",
     "text": [
      "<class 'tuple'>\n",
      "(2, 3, 5, 4, 4, 5, 'a', 'b', 'a', 'b')\n",
      "10\n"
     ]
    }
   ],
   "source": [
    "t = (2,3,5,4,4,5,\"a\",\"b\",\"a\",\"b\")\n",
    "print(type(t))\n",
    "print(t)\n",
    "print(len(t))"
   ]
  },
  {
   "cell_type": "markdown",
   "metadata": {},
   "source": [
    "## Indexing and Slicing "
   ]
  },
  {
   "cell_type": "code",
   "execution_count": 94,
   "metadata": {},
   "outputs": [
    {
     "name": "stdout",
     "output_type": "stream",
     "text": [
      "2\n",
      "(2, 3, 5, 4, 4)\n",
      "('b', 'a', 'b', 'a', 5, 4, 4, 5, 3, 2)\n",
      "b\n",
      "('b', 'a')\n"
     ]
    }
   ],
   "source": [
    "t = (2,3,5,4,4,5,\"a\",\"b\",\"a\",\"b\")\n",
    "print(t[0]) # Accessing first element of tuple\n",
    "print(t[0:5]) # Access first five elements of tuple\n",
    "print(t[::-1]) ## Reverse tuple\n",
    "print(t[-1]) # Print last element of tuple\n",
    "print(t[-3:-1]) ## Accessing last two entries "
   ]
  },
  {
   "cell_type": "markdown",
   "metadata": {},
   "source": [
    "# Question"
   ]
  },
  {
   "cell_type": "code",
   "execution_count": null,
   "metadata": {},
   "outputs": [],
   "source": [
    "# What would be the output of print(t[-1:-3])"
   ]
  },
  {
   "cell_type": "code",
   "execution_count": 24,
   "metadata": {},
   "outputs": [
    {
     "name": "stdout",
     "output_type": "stream",
     "text": [
      "2\n"
     ]
    }
   ],
   "source": [
    "t = (2,3,5,4,4,5,\"a\",\"b\",\"a\",\"b\")\n",
    "print(t.count(5)) ## Return number of occurrences of value (5), zero if the value is not present\n",
    "print(t.index(4)) ## Return first index of value,Raises ValueError if the value is not present. "
   ]
  },
  {
   "cell_type": "markdown",
   "metadata": {},
   "source": [
    "# Dictionaries"
   ]
  },
  {
   "cell_type": "code",
   "execution_count": 30,
   "metadata": {},
   "outputs": [
    {
     "name": "stdout",
     "output_type": "stream",
     "text": [
      "{1: 'Data', 2: 'Analytics', 3: 'with', 4: 'Python'}\n"
     ]
    }
   ],
   "source": [
    "d = {1:\"Data\",2:\"Analytics\", 3: \"with\", 4: \"Python\"}\n",
    "print(d)"
   ]
  },
  {
   "cell_type": "code",
   "execution_count": 29,
   "metadata": {},
   "outputs": [
    {
     "name": "stdout",
     "output_type": "stream",
     "text": [
      "{}\n"
     ]
    }
   ],
   "source": [
    "d.clear() # None, Remove all items from D\n",
    "print(d)"
   ]
  },
  {
   "cell_type": "code",
   "execution_count": 32,
   "metadata": {},
   "outputs": [
    {
     "name": "stdout",
     "output_type": "stream",
     "text": [
      "{1: 'Data', 2: 'Analytics', 3: 'with', 4: 'Python'}\n"
     ]
    }
   ],
   "source": [
    "d = {1:\"Data\",2:\"Analytics\", 3: \"with\", 4: \"Python\"}\n",
    "c = d.copy() # shallow copy of d\n",
    "print(c)"
   ]
  },
  {
   "cell_type": "code",
   "execution_count": 42,
   "metadata": {},
   "outputs": [
    {
     "name": "stdout",
     "output_type": "stream",
     "text": [
      "{'i': 'Vowel', 'e': 'Vowel', 'u': 'Vowel', 'a': 'Vowel', 'o': 'Vowel'}\n"
     ]
    }
   ],
   "source": [
    "keys = {\"a\",\"e\",\"i\",\"o\",\"u\"}\n",
    "values = \"Vowel\"\n",
    "e = dict.fromkeys(keys,values) # Create a new dictionary with keys from iterable and values set to value.\n",
    "print(e)"
   ]
  },
  {
   "cell_type": "code",
   "execution_count": 48,
   "metadata": {},
   "outputs": [
    {
     "name": "stdout",
     "output_type": "stream",
     "text": [
      "Analytics\n"
     ]
    }
   ],
   "source": [
    "d = {1:\"Data\",2:\"Analytics\", 3: \"with\", 4: \"Python\"}\n",
    "print(d.get(2)) ## Return the value for key if key is in the dictionary, else default."
   ]
  },
  {
   "cell_type": "code",
   "execution_count": 51,
   "metadata": {},
   "outputs": [
    {
     "name": "stdout",
     "output_type": "stream",
     "text": [
      "dict_items([(1, 'Data'), (2, 'Analytics'), (3, 'with'), (4, 'Python')])\n"
     ]
    }
   ],
   "source": [
    "d = {1:\"Data\",2:\"Analytics\", 3: \"with\", 4: \"Python\"}\n",
    "print(d.items()) ## a set-like object providing a view on D's items"
   ]
  },
  {
   "cell_type": "code",
   "execution_count": 53,
   "metadata": {},
   "outputs": [
    {
     "name": "stdout",
     "output_type": "stream",
     "text": [
      "dict_keys([1, 2, 3, 4])\n"
     ]
    }
   ],
   "source": [
    "d = {1:\"Data\",2:\"Analytics\", 3: \"with\", 4: \"Python\"}\n",
    "print(d.keys()) ## a set-like object providing a view on D's keys"
   ]
  },
  {
   "cell_type": "code",
   "execution_count": 95,
   "metadata": {},
   "outputs": [
    {
     "name": "stdout",
     "output_type": "stream",
     "text": [
      "{2: 'Analytics', 3: 'with', 4: 'Python'}\n"
     ]
    }
   ],
   "source": [
    "d = {1:\"Data\",2:\"Analytics\", 3: \"with\", 4: \"Python\"}\n",
    "d.pop(1)\n",
    "#d.pop(5,d) ## remove specified key and return the corresponding value.If key is not found, d is returned if given, otherwise KeyError is raised\n",
    "print(d)"
   ]
  },
  {
   "cell_type": "code",
   "execution_count": 72,
   "metadata": {},
   "outputs": [
    {
     "name": "stdout",
     "output_type": "stream",
     "text": [
      "{1: 'Data', 2: 'Analytics', 3: 'with'}\n"
     ]
    }
   ],
   "source": [
    "d = {1:\"Data\",2:\"Analytics\", 3: \"with\",4:\"Python\"}\n",
    "d.popitem() ## remove and return some (key, value) pair as a 2-tuple; but raise KeyError if D is empty.\n",
    "print(d)"
   ]
  },
  {
   "cell_type": "code",
   "execution_count": 78,
   "metadata": {
    "scrolled": true
   },
   "outputs": [
    {
     "name": "stdout",
     "output_type": "stream",
     "text": [
      "{1: 'Data', 2: 'Analytics', 3: 'with', 4: 'Python', 5: 'Data Science'}\n"
     ]
    }
   ],
   "source": [
    "d = {1:\"Data\",2:\"Analytics\", 3: \"with\",4:\"Python\"}\n",
    "d.setdefault(5,\"Data Science\") ## Insert key with a value of default if key is not in the dictionary.Return the value for key if key is in the dictionary, else default.\n",
    "print(d)"
   ]
  },
  {
   "cell_type": "code",
   "execution_count": 81,
   "metadata": {},
   "outputs": [
    {
     "name": "stdout",
     "output_type": "stream",
     "text": [
      "dict_values(['Data', 'Analytics', 'with', 'Python'])\n"
     ]
    }
   ],
   "source": [
    "d = {1:\"Data\",2:\"Analytics\", 3: \"with\",4:\"Python\"}\n",
    "print(d.values()) ## an object providing a view on D's values"
   ]
  },
  {
   "cell_type": "code",
   "execution_count": 87,
   "metadata": {},
   "outputs": [
    {
     "name": "stdout",
     "output_type": "stream",
     "text": [
      "{1: 'Data Scince', 2: 'Analytics', 3: 'with', 4: 'Python'}\n",
      "{1: 'Data Scince', 2: 'Analytics', 3: 'with', 4: 'Python', 5: 'AI'}\n"
     ]
    }
   ],
   "source": [
    "d = {1:\"Data\",2:\"Analytics\", 3: \"with\",4:\"Python\"}\n",
    "d.update({1:\"Data Scince\"}) ## Update D from dict/iterable E and F.\n",
    "print(d) ## Dictionaries are mutable\n",
    "\n",
    "d.update({5:\"AI\"})\n",
    "print(d)\n"
   ]
  },
  {
   "cell_type": "code",
   "execution_count": 88,
   "metadata": {},
   "outputs": [],
   "source": [
    "\n"
   ]
  }
 ],
 "metadata": {
  "kernelspec": {
   "display_name": "Python 3",
   "language": "python",
   "name": "python3"
  },
  "language_info": {
   "codemirror_mode": {
    "name": "ipython",
    "version": 3
   },
   "file_extension": ".py",
   "mimetype": "text/x-python",
   "name": "python",
   "nbconvert_exporter": "python",
   "pygments_lexer": "ipython3",
   "version": "3.7.1"
  }
 },
 "nbformat": 4,
 "nbformat_minor": 2
}
